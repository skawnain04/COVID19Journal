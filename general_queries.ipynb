{
 "cells": [
  {
   "cell_type": "code",
   "execution_count": 10,
   "metadata": {},
   "outputs": [],
   "source": [
    "import pandas as pd\n",
    "import ast"
   ]
  },
  {
   "cell_type": "code",
   "execution_count": 11,
   "metadata": {},
   "outputs": [],
   "source": [
    "path = \"/s/chopin/l/grad/shadaab/Documents/Journal_Twitter/data/data.csv\"\n",
    "df = pd.read_csv(path)"
   ]
  },
  {
   "cell_type": "code",
   "execution_count": 12,
   "metadata": {},
   "outputs": [
    {
     "name": "stdout",
     "output_type": "stream",
     "text": [
      "{'id': '3797791ff9c0e4c6', 'url': 'https://api.twitter.com/1.1/geo/id/3797791ff9c0e4c6.json', 'place_type': 'city', 'name': 'Toronto', 'full_name': 'Toronto, Ontario', 'country_code': 'CA', 'country': 'Canada', 'bounding_box': {'type': 'Polygon', 'coordinates': [[[-79.639319, 43.403221], [-79.639319, 43.855401], [-78.90582, 43.855401], [-78.90582, 43.403221]]]}, 'attributes': {}}\n"
     ]
    }
   ],
   "source": [
    "print(df['place'][0])"
   ]
  },
  {
   "cell_type": "code",
   "execution_count": 13,
   "metadata": {},
   "outputs": [
    {
     "name": "stdout",
     "output_type": "stream",
     "text": [
      "               city                             full_name  \\\n",
      "0           Toronto                      Toronto, Ontario   \n",
      "1       Quezon City  Quezon City, National Capital Region   \n",
      "2          Columbus                          Columbus, OH   \n",
      "3          Coventry                     Coventry, England   \n",
      "4      Samut Prakan                Samut Prakan, Thailand   \n",
      "...             ...                                   ...   \n",
      "68620     Baltimore                         Baltimore, MD   \n",
      "68621   Chevy Chase                       Chevy Chase, MD   \n",
      "68622    Seton Hill                 Seton Hill, Baltimore   \n",
      "68623        Eugene                            Eugene, OR   \n",
      "68624        Surrey              Surrey, British Columbia   \n",
      "\n",
      "                           country  \n",
      "0                           Canada  \n",
      "1      Republic of the Philippines  \n",
      "2                    United States  \n",
      "3                   United Kingdom  \n",
      "4                         Thailand  \n",
      "...                            ...  \n",
      "68620                United States  \n",
      "68621                United States  \n",
      "68622                United States  \n",
      "68623                United States  \n",
      "68624                       Canada  \n",
      "\n",
      "[68625 rows x 3 columns]\n"
     ]
    }
   ],
   "source": [
    "# Function to extract place, city, and country from the 'place' column\n",
    "def extract_place_info(place_str):\n",
    "    try:\n",
    "        # Convert the string to a dictionary\n",
    "        place_dict = ast.literal_eval(place_str)\n",
    "        \n",
    "        # Extract the values for city, full_name, and country\n",
    "        city = place_dict.get('name')\n",
    "        full_name = place_dict.get('full_name')\n",
    "        country = place_dict.get('country')\n",
    "        \n",
    "        return pd.Series([city, full_name, country])\n",
    "    except (ValueError, SyntaxError):\n",
    "        # Return None if the parsing fails\n",
    "        return pd.Series([None, None, None])\n",
    "\n",
    "# Apply the extraction function to the 'place' column and create new columns\n",
    "df[['city', 'full_name', 'country']] = df['place'].apply(extract_place_info)\n",
    "# Print the updated DataFrame with the new columns\n",
    "print(df[['city', 'full_name', 'country']])"
   ]
  },
  {
   "cell_type": "code",
   "execution_count": 15,
   "metadata": {},
   "outputs": [],
   "source": [
    "# Save the modified DataFrame to the same CSV file\n",
    "df.to_csv('/s/chopin/l/grad/shadaab/Documents/Journal_Twitter/data/data.csv', index=False)\n",
    "\n"
   ]
  }
 ],
 "metadata": {
  "kernelspec": {
   "display_name": "Python 3",
   "language": "python",
   "name": "python3"
  },
  "language_info": {
   "codemirror_mode": {
    "name": "ipython",
    "version": 3
   },
   "file_extension": ".py",
   "mimetype": "text/x-python",
   "name": "python",
   "nbconvert_exporter": "python",
   "pygments_lexer": "ipython3",
   "version": "3.9.13"
  }
 },
 "nbformat": 4,
 "nbformat_minor": 2
}
